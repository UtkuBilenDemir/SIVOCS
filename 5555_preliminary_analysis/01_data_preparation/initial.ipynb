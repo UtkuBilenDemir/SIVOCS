{
 "cells": [
  {
   "cell_type": "code",
   "execution_count": 1,
   "id": "congressional-lewis",
   "metadata": {},
   "outputs": [],
   "source": [
    "\n",
    "\n",
    "import pandas as pd\n",
    "import pickle\n",
    "import pprint\n",
    "from sklearn.datasets import load_files\n",
    "from sklearn.feature_extraction.text import CountVectorizer\n",
    "import np\n",
    "import matplotlib as plt\n",
    "import os\n",
    "\n",
    "import re\n",
    "import pandas as pd\n",
    "from pprint import pprint\n",
    "\n",
    "# Gensim\n",
    "import gensim\n",
    "import gensim.corpora as corpora\n",
    "from gensim.utils import simple_preprocess\n",
    "from gensim.models import CoherenceModel\n",
    "\n",
    "# spacy for lemmatization\n",
    "import spacy\n",
    "\n",
    "# Plotting tools\n",
    "import pyLDAvis\n",
    "import pyLDAvis.gensim  # don't skip this\n",
    "import matplotlib.pyplot as plt\n",
    "\n"
   ]
  },
  {
   "cell_type": "code",
   "execution_count": 2,
   "id": "lonely-medline",
   "metadata": {},
   "outputs": [
    {
     "name": "stderr",
     "output_type": "stream",
     "text": [
      "/home/ubd/anaconda/envs/topic_modelling/lib/python3.8/site-packages/ipykernel/ipkernel.py:287: DeprecationWarning: `should_run_async` will not call `transform_cell` automatically in the future. Please pass the result to `transformed_cell` argument and any exception that happen during thetransform in `preprocessing_exc_tuple` in IPython 7.17 and above.\n",
      "  and should_run_async(code)\n"
     ]
    }
   ],
   "source": [
    "import warnings\n",
    "warnings.filterwarnings(\"ignore\", category=DeprecationWarning)"
   ]
  },
  {
   "cell_type": "code",
   "execution_count": 3,
   "id": "ethical-replacement",
   "metadata": {},
   "outputs": [],
   "source": [
    "\n",
    "snsf_ge_abs_df = pd.read_csv(\"../data/P3_GrantExport_with_abstracts.csv\", sep=\";\")"
   ]
  },
  {
   "cell_type": "code",
   "execution_count": 4,
   "id": "fifth-adobe",
   "metadata": {},
   "outputs": [
    {
     "data": {
      "text/plain": [
       "Index(['Project Number', 'Project Number String', 'Project Title',\n",
       "       'Project Title English', 'Responsible Applicant', 'Funding Instrument',\n",
       "       'Funding Instrument Hierarchy', 'Institution', 'Institution Country',\n",
       "       'University', 'Discipline Number', 'Discipline Name',\n",
       "       'Discipline Name Hierarchy', 'All disciplines', 'Start Date',\n",
       "       'End Date', 'Approved Amount', 'Keywords', 'Abstract',\n",
       "       'Lay Summary Lead (English)', 'Lay Summary (English)',\n",
       "       'Lay Summary  Lead (German)', 'Lay Summary (German)',\n",
       "       'Lay Summary Lead (French)', 'Lay Summary (French)',\n",
       "       'Lay Summary Lead (Italian)', 'Lay Summary (Italian)'],\n",
       "      dtype='object')"
      ]
     },
     "execution_count": 4,
     "metadata": {},
     "output_type": "execute_result"
    }
   ],
   "source": [
    "snsf_ge_abs_df.keys()"
   ]
  },
  {
   "cell_type": "code",
   "execution_count": 5,
   "id": "grand-massachusetts",
   "metadata": {},
   "outputs": [
    {
     "data": {
      "text/plain": [
       "0.5877609108159393"
      ]
     },
     "execution_count": 5,
     "metadata": {},
     "output_type": "execute_result"
    }
   ],
   "source": [
    "len([x for x in snsf_ge_abs_df[\"Abstract\"] if str(x) == \"nan\"]) /  len(snsf_ge_abs_df[\"Abstract\"])"
   ]
  },
  {
   "cell_type": "code",
   "execution_count": 6,
   "id": "caroline-think",
   "metadata": {},
   "outputs": [
    {
     "data": {
      "text/plain": [
       "0.5761253426101623"
      ]
     },
     "execution_count": 6,
     "metadata": {},
     "output_type": "execute_result"
    }
   ],
   "source": [
    "len([x for x in snsf_ge_abs_df[\"Project Title English\"] if str(x) == \"nan\"]) /  len(snsf_ge_abs_df[\"Project Title English\"])"
   ]
  },
  {
   "cell_type": "code",
   "execution_count": 7,
   "id": "southern-flight",
   "metadata": {},
   "outputs": [
    {
     "data": {
      "text/plain": [
       "0.0"
      ]
     },
     "execution_count": 7,
     "metadata": {},
     "output_type": "execute_result"
    }
   ],
   "source": [
    "len([x for x in snsf_ge_abs_df[\"Project Title\"] if str(x) == \"nan\"]) /  len(snsf_ge_abs_df[\"Project Title\"])"
   ]
  },
  {
   "cell_type": "code",
   "execution_count": 8,
   "id": "hairy-lodge",
   "metadata": {},
   "outputs": [],
   "source": [
    "abstracts = [x for x in snsf_ge_abs_df[\"Abstract\"] if str(x) != \"nan\"]"
   ]
  },
  {
   "cell_type": "code",
   "execution_count": 9,
   "id": "amazing-grave",
   "metadata": {},
   "outputs": [
    {
     "data": {
      "text/plain": [
       "159"
      ]
     },
     "execution_count": 9,
     "metadata": {},
     "output_type": "execute_result"
    }
   ],
   "source": [
    "len(set(snsf_ge_abs_df[\"Discipline Name\"]))"
   ]
  },
  {
   "cell_type": "code",
   "execution_count": 10,
   "id": "developing-blocking",
   "metadata": {},
   "outputs": [],
   "source": [
    "set(snsf_ge_abs_df[\"Discipline Name\"]);"
   ]
  },
  {
   "cell_type": "code",
   "execution_count": 11,
   "id": "sorted-plumbing",
   "metadata": {},
   "outputs": [
    {
     "data": {
      "text/plain": [
       "'1993'"
      ]
     },
     "execution_count": 11,
     "metadata": {},
     "output_type": "execute_result"
    }
   ],
   "source": [
    "snsf_ge_abs_df[\"Start Date\"][0].split(\".\")[2]"
   ]
  },
  {
   "cell_type": "code",
   "execution_count": 44,
   "id": "turkish-survey",
   "metadata": {},
   "outputs": [],
   "source": [
    "years_15_18 = [x for x in snsf_ge_abs_df[\"End Date\"] if str(x) != 'nan' and 2015 <= int(str(x).split(\".\")[2]) <= 2018]\n",
    "years_15_19 = [x for x in snsf_ge_abs_df[\"End Date\"] if str(x) != 'nan' and 2015 <= int(str(x).split(\".\")[2]) <= 2019]\n",
    "years_15_18_ind = [i for i,x in enumerate(snsf_ge_abs_df[\"End Date\"]) if str(x) != 'nan' and 2015 <= int(str(x).split(\".\")[2]) <= 2018]\n",
    "years_15_19_ind = [i for i,x in enumerate(snsf_ge_abs_df[\"End Date\"]) if str(x) != 'nan' and 2015 <= int(str(x).split(\".\")[2]) <= 2019]"
   ]
  },
  {
   "cell_type": "code",
   "execution_count": 45,
   "id": "aggressive-pixel",
   "metadata": {},
   "outputs": [
    {
     "data": {
      "text/plain": [
       "10857"
      ]
     },
     "execution_count": 45,
     "metadata": {},
     "output_type": "execute_result"
    }
   ],
   "source": [
    "len(years_15_18)"
   ]
  },
  {
   "cell_type": "code",
   "execution_count": 14,
   "id": "deadly-testament",
   "metadata": {},
   "outputs": [],
   "source": [
    "English = snsf_ge_abs_df[\"Project Title\"][[i for i,x in enumerate(snsf_ge_abs_df[\"Project Title English\"])]]"
   ]
  },
  {
   "cell_type": "code",
   "execution_count": 15,
   "id": "round-webmaster",
   "metadata": {},
   "outputs": [
    {
     "data": {
      "text/plain": [
       "1    A safe haven for untold casualties? An assessm...\n",
       "2    Die übelste aller Frauen? Klytaimestra in Text...\n",
       "3    Functional analysis of novel VEGF receptor 2 l...\n",
       "4    'kuhghyer'. Eine historisch-anthropologische U...\n",
       "5                   Méthodologie économique et espace.\n",
       "6    Physically-Based Modeling for Point-Based Grap...\n",
       "7    Le Journal helvétique (1732-1784): un espace d...\n",
       "8    CollAGEing:  understanding age- and diabetes-r...\n",
       "9    Vorschläge für eine Bauzonenumschreibung im Bu...\n",
       "Name: Project Title, dtype: object"
      ]
     },
     "execution_count": 15,
     "metadata": {},
     "output_type": "execute_result"
    }
   ],
   "source": [
    "English[1:10]"
   ]
  },
  {
   "cell_type": "code",
   "execution_count": 16,
   "id": "civilian-advertiser",
   "metadata": {},
   "outputs": [
    {
     "data": {
      "text/plain": [
       "1.0"
      ]
     },
     "execution_count": 16,
     "metadata": {},
     "output_type": "execute_result"
    }
   ],
   "source": [
    "len([x for x in snsf_ge_abs_df[\"Funding Instrument\"] if str(x) != \"nan\"])/len(snsf_ge_abs_df)"
   ]
  },
  {
   "cell_type": "code",
   "execution_count": 17,
   "id": "brilliant-singer",
   "metadata": {},
   "outputs": [
    {
     "data": {
      "text/plain": [
       "1                                   Careers;Fellowships\n",
       "2                                 Science communication\n",
       "3     Careers;Academic and research careers (non-pro...\n",
       "4                                       Project funding\n",
       "5                                   Careers;Fellowships\n",
       "6                                       Project funding\n",
       "7                                            Programmes\n",
       "8                                               Careers\n",
       "9        Programmes;National Research Programmes (NRPs)\n",
       "10                                  Careers;Fellowships\n",
       "11                                  Careers;Fellowships\n",
       "12       Programmes;National Research Programmes (NRPs)\n",
       "13                                Science communication\n",
       "14                                              Careers\n",
       "15                                  Careers;Fellowships\n",
       "16                                      Project funding\n",
       "17                                Science communication\n",
       "18                                              Careers\n",
       "19                                      Project funding\n",
       "20                                      Project funding\n",
       "21                                  Careers;Fellowships\n",
       "22       Programmes;National Research Programmes (NRPs)\n",
       "23                                      Project funding\n",
       "24                                      Project funding\n",
       "25                                      Project funding\n",
       "26                                              Careers\n",
       "27                                  Careers;Fellowships\n",
       "28                                      Project funding\n",
       "29                                      Project funding\n",
       "30                                      Project funding\n",
       "31                                      Project funding\n",
       "32                                      Project funding\n",
       "33                                Science communication\n",
       "34                                      Project funding\n",
       "35                                Science communication\n",
       "36                                      Project funding\n",
       "37                                Science communication\n",
       "38                                              Careers\n",
       "39                                  Careers;Fellowships\n",
       "40                                      Project funding\n",
       "41                                      Project funding\n",
       "42                                       Infrastructure\n",
       "43                                Science communication\n",
       "44                                      Project funding\n",
       "45                                Science communication\n",
       "46       Programmes;National Research Programmes (NRPs)\n",
       "47                                      Project funding\n",
       "48                                      Project funding\n",
       "49                                  Careers;Fellowships\n",
       "Name: Funding Instrument Hierarchy, dtype: object"
      ]
     },
     "execution_count": 17,
     "metadata": {},
     "output_type": "execute_result"
    }
   ],
   "source": [
    "snsf_ge_abs_df[\"Funding Instrument Hierarchy\"][1:50]"
   ]
  },
  {
   "cell_type": "code",
   "execution_count": 18,
   "id": "christian-electronics",
   "metadata": {},
   "outputs": [
    {
     "data": {
      "text/plain": [
       "0                   Project funding (Div. I-III)\n",
       "1                         Early Postdoc.Mobility\n",
       "2                             Publication grants\n",
       "3                     Marie Heim-Voegtlin grants\n",
       "4                      Project funding (special)\n",
       "                          ...                   \n",
       "75883                               FORCE / CERN\n",
       "75884    Fellowships for prospective researchers\n",
       "75885               Project funding (Div. I-III)\n",
       "75886    Fellowships for prospective researchers\n",
       "75887               Project funding (Div. I-III)\n",
       "Name: Funding Instrument, Length: 75888, dtype: object"
      ]
     },
     "execution_count": 18,
     "metadata": {},
     "output_type": "execute_result"
    }
   ],
   "source": [
    "snsf_ge_abs_df[\"Funding Instrument\"]"
   ]
  },
  {
   "cell_type": "code",
   "execution_count": 19,
   "id": "mediterranean-digit",
   "metadata": {},
   "outputs": [
    {
     "data": {
      "text/plain": [
       "0        Département de Physiologie Faculté de Biologie...\n",
       "1        Pelagic Ecosystems Research Group  Hawaii Paci...\n",
       "2        Seminar für Griechische und Lateinische Philol...\n",
       "3                                   Paul Scherrer Institut\n",
       "4                        Kantonsbibliothek Appenzell A.Rh.\n",
       "                               ...                        \n",
       "75883                 Departement Physik Universität Basel\n",
       "75884    UNI: Princeton University Dept of Geological &...\n",
       "75885    Zoologisches Institut Bio-/Pharmazentrum Unive...\n",
       "75886         UNI: Unviersity of California   La Jolla USA\n",
       "75887    Institut de Police Scientifique Ecole des Scie...\n",
       "Name: Institution, Length: 75888, dtype: object"
      ]
     },
     "execution_count": 19,
     "metadata": {},
     "output_type": "execute_result"
    }
   ],
   "source": [
    "snsf_ge_abs_df[\"Institution\"]"
   ]
  },
  {
   "cell_type": "code",
   "execution_count": 20,
   "id": "proved-judges",
   "metadata": {},
   "outputs": [
    {
     "data": {
      "text/plain": [
       "0          University of Lausanne - LA\n",
       "1            Institution abroad - IACH\n",
       "2            University of Zurich - ZH\n",
       "3        Paul Scherrer Institute - PSI\n",
       "4            University of Zurich - ZH\n",
       "                     ...              \n",
       "75883         University of Basel - BS\n",
       "75884        Institution abroad - IACH\n",
       "75885         University of Basel - BS\n",
       "75886        Institution abroad - IACH\n",
       "75887      University of Lausanne - LA\n",
       "Name: University, Length: 75888, dtype: object"
      ]
     },
     "execution_count": 20,
     "metadata": {},
     "output_type": "execute_result"
    }
   ],
   "source": [
    "snsf_ge_abs_df[\"University\"]"
   ]
  },
  {
   "cell_type": "code",
   "execution_count": 21,
   "id": "running-miami",
   "metadata": {},
   "outputs": [
    {
     "data": {
      "text/plain": [
       "0          3100-037668\n",
       "1        P2SKP3_184044\n",
       "2        B-0010-142744\n",
       "3        PMCDP3_147530\n",
       "4          1115-055486\n",
       "             ...      \n",
       "75883      2166-053297\n",
       "75884      81NE-020428\n",
       "75885      3100-008677\n",
       "75886      81BS-068472\n",
       "75887    105211_188898\n",
       "Name: Project Number String, Length: 75888, dtype: object"
      ]
     },
     "execution_count": 21,
     "metadata": {},
     "output_type": "execute_result"
    }
   ],
   "source": [
    "snsf_ge_abs_df[\"Project Number String\"]"
   ]
  },
  {
   "cell_type": "code",
   "execution_count": 22,
   "id": "infectious-context",
   "metadata": {},
   "outputs": [
    {
     "data": {
      "text/plain": [
       "75888"
      ]
     },
     "execution_count": 22,
     "metadata": {},
     "output_type": "execute_result"
    }
   ],
   "source": [
    "len(snsf_ge_abs_df)"
   ]
  },
  {
   "cell_type": "code",
   "execution_count": 23,
   "id": "congressional-frederick",
   "metadata": {},
   "outputs": [
    {
     "data": {
      "text/plain": [
       "649"
      ]
     },
     "execution_count": 23,
     "metadata": {},
     "output_type": "execute_result"
    }
   ],
   "source": [
    "len([x for x in snsf_ge_abs_df.iloc[years_15_18_ind,:][\"Lay Summary (Italian)\"] if str(x) != \"nan\"])"
   ]
  },
  {
   "cell_type": "code",
   "execution_count": 24,
   "id": "organizational-conflict",
   "metadata": {},
   "outputs": [
    {
     "data": {
      "text/html": [
       "<div>\n",
       "<style scoped>\n",
       "    .dataframe tbody tr th:only-of-type {\n",
       "        vertical-align: middle;\n",
       "    }\n",
       "\n",
       "    .dataframe tbody tr th {\n",
       "        vertical-align: top;\n",
       "    }\n",
       "\n",
       "    .dataframe thead th {\n",
       "        text-align: right;\n",
       "    }\n",
       "</style>\n",
       "<table border=\"1\" class=\"dataframe\">\n",
       "  <thead>\n",
       "    <tr style=\"text-align: right;\">\n",
       "      <th></th>\n",
       "      <th>Project Number</th>\n",
       "      <th>Project Number String</th>\n",
       "      <th>Project Title</th>\n",
       "      <th>Project Title English</th>\n",
       "      <th>Responsible Applicant</th>\n",
       "      <th>Funding Instrument</th>\n",
       "      <th>Funding Instrument Hierarchy</th>\n",
       "      <th>Institution</th>\n",
       "      <th>Institution Country</th>\n",
       "      <th>University</th>\n",
       "      <th>...</th>\n",
       "      <th>Keywords</th>\n",
       "      <th>Abstract</th>\n",
       "      <th>Lay Summary Lead (English)</th>\n",
       "      <th>Lay Summary (English)</th>\n",
       "      <th>Lay Summary  Lead (German)</th>\n",
       "      <th>Lay Summary (German)</th>\n",
       "      <th>Lay Summary Lead (French)</th>\n",
       "      <th>Lay Summary (French)</th>\n",
       "      <th>Lay Summary Lead (Italian)</th>\n",
       "      <th>Lay Summary (Italian)</th>\n",
       "    </tr>\n",
       "  </thead>\n",
       "  <tbody>\n",
       "    <tr>\n",
       "      <th>17</th>\n",
       "      <td>166723</td>\n",
       "      <td>10CO18_166723</td>\n",
       "      <td>2016 International Conference on Technologies ...</td>\n",
       "      <td>NaN</td>\n",
       "      <td>Bolay Jean-Claude</td>\n",
       "      <td>Scientific Conferences</td>\n",
       "      <td>Science communication</td>\n",
       "      <td>VPAI - Coopération EPFL</td>\n",
       "      <td>Switzerland</td>\n",
       "      <td>EPF Lausanne - EPFL</td>\n",
       "      <td>...</td>\n",
       "      <td>Development Engineering; Sustainable Developme...</td>\n",
       "      <td>The Cooperation and Development Center (CODEV)...</td>\n",
       "      <td>NaN</td>\n",
       "      <td>NaN</td>\n",
       "      <td>NaN</td>\n",
       "      <td>NaN</td>\n",
       "      <td>NaN</td>\n",
       "      <td>NaN</td>\n",
       "      <td>NaN</td>\n",
       "      <td>NaN</td>\n",
       "    </tr>\n",
       "    <tr>\n",
       "      <th>32</th>\n",
       "      <td>143969</td>\n",
       "      <td>200021_143969</td>\n",
       "      <td>Ultradense silicon nanowires</td>\n",
       "      <td>Ultradense silicon nanowires</td>\n",
       "      <td>Ekinci Yasin</td>\n",
       "      <td>Project funding (Div. I-III)</td>\n",
       "      <td>Project funding</td>\n",
       "      <td>Labor für Mikro- und Nanotechnologie Paul Sche...</td>\n",
       "      <td>Switzerland</td>\n",
       "      <td>Paul Scherrer Institute - PSI</td>\n",
       "      <td>...</td>\n",
       "      <td>nanowire; nanomanufacturing; silicon; material...</td>\n",
       "      <td>Progress in micro and nanoelectronics, as pred...</td>\n",
       "      <td>NaN</td>\n",
       "      <td>&lt;p&gt;Progress in micro and nanoelectronics, as p...</td>\n",
       "      <td>NaN</td>\n",
       "      <td>&lt;p&gt;Der rasante Fortschritt in der Mikro-und Na...</td>\n",
       "      <td>NaN</td>\n",
       "      <td>NaN</td>\n",
       "      <td>NaN</td>\n",
       "      <td>NaN</td>\n",
       "    </tr>\n",
       "    <tr>\n",
       "      <th>35</th>\n",
       "      <td>163509</td>\n",
       "      <td>B-OA10_163509</td>\n",
       "      <td>L’invention des Carpates: géographies d’une co...</td>\n",
       "      <td>NaN</td>\n",
       "      <td>Verlag Peter Lang AG Europäischer Verlag der W...</td>\n",
       "      <td>OAPEN-CH pilot project</td>\n",
       "      <td>Science communication</td>\n",
       "      <td>Verlag Peter Lang AG Europäischer Verlag der W...</td>\n",
       "      <td>Switzerland</td>\n",
       "      <td>University of Geneva - GE</td>\n",
       "      <td>...</td>\n",
       "      <td>Construction régionale transnationale ; Gestio...</td>\n",
       "      <td>La signature le 22 mai 2003 à Kiev de la Conve...</td>\n",
       "      <td>NaN</td>\n",
       "      <td>NaN</td>\n",
       "      <td>NaN</td>\n",
       "      <td>NaN</td>\n",
       "      <td>NaN</td>\n",
       "      <td>NaN</td>\n",
       "      <td>NaN</td>\n",
       "      <td>NaN</td>\n",
       "    </tr>\n",
       "    <tr>\n",
       "      <th>37</th>\n",
       "      <td>182925</td>\n",
       "      <td>10BP12_182925</td>\n",
       "      <td>Unter Kriegsrecht. Die schweizerische Militärj...</td>\n",
       "      <td>Under Laws of War: Swiss Military Justice 1914...</td>\n",
       "      <td>Steiner Sebastian</td>\n",
       "      <td>Open Access Books</td>\n",
       "      <td>Science communication</td>\n",
       "      <td>Abt. Neueste Geschichte u. Zeitgeschichte Hist...</td>\n",
       "      <td>Switzerland</td>\n",
       "      <td>University of Berne - BE</td>\n",
       "      <td>...</td>\n",
       "      <td>Erster Weltkrieg; Schweiz; Militärjustiz; Land...</td>\n",
       "      <td>Die vorliegende Dissertation untersucht die sc...</td>\n",
       "      <td>NaN</td>\n",
       "      <td>NaN</td>\n",
       "      <td>NaN</td>\n",
       "      <td>NaN</td>\n",
       "      <td>NaN</td>\n",
       "      <td>NaN</td>\n",
       "      <td>NaN</td>\n",
       "      <td>NaN</td>\n",
       "    </tr>\n",
       "    <tr>\n",
       "      <th>38</th>\n",
       "      <td>154717</td>\n",
       "      <td>PZ00P3_154717</td>\n",
       "      <td>Characterizing migrations with modern and anci...</td>\n",
       "      <td>NaN</td>\n",
       "      <td>Malaspinas Anna Sapfo</td>\n",
       "      <td>Ambizione</td>\n",
       "      <td>Careers</td>\n",
       "      <td>Institut für Ökologie und Evolution Universitä...</td>\n",
       "      <td>Switzerland</td>\n",
       "      <td>University of Berne - BE</td>\n",
       "      <td>...</td>\n",
       "      <td>molecular evolution; Americas; population geno...</td>\n",
       "      <td>BACKGROUND: The mode and tempo of the coloniza...</td>\n",
       "      <td>NaN</td>\n",
       "      <td>NaN</td>\n",
       "      <td>NaN</td>\n",
       "      <td>NaN</td>\n",
       "      <td>NaN</td>\n",
       "      <td>&lt;p&gt;&lt;strong&gt;Titre&lt;/strong&gt;&lt;/p&gt;&lt;p&gt;Caract&amp;eacute;...</td>\n",
       "      <td>NaN</td>\n",
       "      <td>NaN</td>\n",
       "    </tr>\n",
       "    <tr>\n",
       "      <th>...</th>\n",
       "      <td>...</td>\n",
       "      <td>...</td>\n",
       "      <td>...</td>\n",
       "      <td>...</td>\n",
       "      <td>...</td>\n",
       "      <td>...</td>\n",
       "      <td>...</td>\n",
       "      <td>...</td>\n",
       "      <td>...</td>\n",
       "      <td>...</td>\n",
       "      <td>...</td>\n",
       "      <td>...</td>\n",
       "      <td>...</td>\n",
       "      <td>...</td>\n",
       "      <td>...</td>\n",
       "      <td>...</td>\n",
       "      <td>...</td>\n",
       "      <td>...</td>\n",
       "      <td>...</td>\n",
       "      <td>...</td>\n",
       "      <td>...</td>\n",
       "    </tr>\n",
       "    <tr>\n",
       "      <th>75849</th>\n",
       "      <td>189521</td>\n",
       "      <td>10BP12_189521</td>\n",
       "      <td>Des réseaux et des hommes. Participation et co...</td>\n",
       "      <td>Networks and Men. Swiss Participation and Cont...</td>\n",
       "      <td>Quin Grégory</td>\n",
       "      <td>Open Access Books</td>\n",
       "      <td>Science communication</td>\n",
       "      <td>PHASE Institut des sciences du sport/SSP Unive...</td>\n",
       "      <td>Switzerland</td>\n",
       "      <td>University of Lausanne - LA</td>\n",
       "      <td>...</td>\n",
       "      <td>Histoire du sport; Histoire suisse; Réseaux; B...</td>\n",
       "      <td>Depuis les dernières années du 19ème siècle, d...</td>\n",
       "      <td>NaN</td>\n",
       "      <td>NaN</td>\n",
       "      <td>NaN</td>\n",
       "      <td>NaN</td>\n",
       "      <td>NaN</td>\n",
       "      <td>NaN</td>\n",
       "      <td>NaN</td>\n",
       "      <td>NaN</td>\n",
       "    </tr>\n",
       "    <tr>\n",
       "      <th>75852</th>\n",
       "      <td>189691</td>\n",
       "      <td>IZSEZ0_189691</td>\n",
       "      <td>Colloque International Clinique du sens</td>\n",
       "      <td>NaN</td>\n",
       "      <td>Brandt Pierre-Yves</td>\n",
       "      <td>Scientific Exchanges</td>\n",
       "      <td>Science communication</td>\n",
       "      <td>Institut de sciences sociales des religions IS...</td>\n",
       "      <td>Switzerland</td>\n",
       "      <td>University of Lausanne - LA</td>\n",
       "      <td>...</td>\n",
       "      <td>religion/spiritualité et santé; spiritual care...</td>\n",
       "      <td>Certaines personnalités très médiatisées, tell...</td>\n",
       "      <td>NaN</td>\n",
       "      <td>NaN</td>\n",
       "      <td>NaN</td>\n",
       "      <td>NaN</td>\n",
       "      <td>NaN</td>\n",
       "      <td>NaN</td>\n",
       "      <td>NaN</td>\n",
       "      <td>NaN</td>\n",
       "    </tr>\n",
       "    <tr>\n",
       "      <th>75855</th>\n",
       "      <td>163447</td>\n",
       "      <td>31003A_163447</td>\n",
       "      <td>Post-transcriptional gene regulation in develo...</td>\n",
       "      <td>Post-transcriptional gene regulation in develo...</td>\n",
       "      <td>Grosshans Helge</td>\n",
       "      <td>Project funding (Div. I-III)</td>\n",
       "      <td>Project funding</td>\n",
       "      <td>Friedrich Miescher Institute for Biomedical Re...</td>\n",
       "      <td>Switzerland</td>\n",
       "      <td>Institute Friedrich Miescher - FMI</td>\n",
       "      <td>...</td>\n",
       "      <td>translational control; developmental timing; L...</td>\n",
       "      <td>Faithful development of an organism requires p...</td>\n",
       "      <td>NaN</td>\n",
       "      <td>NaN</td>\n",
       "      <td>NaN</td>\n",
       "      <td>&lt;p&gt;Wir haben k&amp;uuml;rzlich im Fadenwurm &lt;em&gt;Ca...</td>\n",
       "      <td>NaN</td>\n",
       "      <td>NaN</td>\n",
       "      <td>NaN</td>\n",
       "      <td>NaN</td>\n",
       "    </tr>\n",
       "    <tr>\n",
       "      <th>75871</th>\n",
       "      <td>172702</td>\n",
       "      <td>200020_172702</td>\n",
       "      <td>The build-up to volcanic eruptions</td>\n",
       "      <td>NaN</td>\n",
       "      <td>Caricchi Luca</td>\n",
       "      <td>Project funding (Div. I-III)</td>\n",
       "      <td>Project funding</td>\n",
       "      <td>Département des sciences de la Terre Universit...</td>\n",
       "      <td>Switzerland</td>\n",
       "      <td>University of Geneva - GE</td>\n",
       "      <td>...</td>\n",
       "      <td>Plutons; zircon geochronology; cross correlati...</td>\n",
       "      <td>I seek funding to complete the research of Mis...</td>\n",
       "      <td>NaN</td>\n",
       "      <td>NaN</td>\n",
       "      <td>NaN</td>\n",
       "      <td>NaN</td>\n",
       "      <td>NaN</td>\n",
       "      <td>NaN</td>\n",
       "      <td>NaN</td>\n",
       "      <td>&lt;p&gt;Misure geofisiche e le analisi chimiche dei...</td>\n",
       "    </tr>\n",
       "    <tr>\n",
       "      <th>75880</th>\n",
       "      <td>174544</td>\n",
       "      <td>P1ZHP1_174544</td>\n",
       "      <td>Explaining Swiss School Language Policies</td>\n",
       "      <td>Explaining Swiss School Language Policies</td>\n",
       "      <td>Giudici Anja</td>\n",
       "      <td>Doc.Mobility</td>\n",
       "      <td>Careers;Fellowships</td>\n",
       "      <td>Department of Linguistics University of Pennsy...</td>\n",
       "      <td>United States of America</td>\n",
       "      <td>Institution abroad - IACH</td>\n",
       "      <td>...</td>\n",
       "      <td>School language policy; Language education; Mu...</td>\n",
       "      <td>No society is virtually monolingual. Therefore...</td>\n",
       "      <td>NaN</td>\n",
       "      <td>NaN</td>\n",
       "      <td>NaN</td>\n",
       "      <td>&lt;p&gt;&lt;strong&gt;Inhalt und Ziel des Forschungsproje...</td>\n",
       "      <td>NaN</td>\n",
       "      <td>NaN</td>\n",
       "      <td>NaN</td>\n",
       "      <td>NaN</td>\n",
       "    </tr>\n",
       "  </tbody>\n",
       "</table>\n",
       "<p>13498 rows × 27 columns</p>\n",
       "</div>"
      ],
      "text/plain": [
       "       Project Number Project Number String  \\\n",
       "17             166723         10CO18_166723   \n",
       "32             143969         200021_143969   \n",
       "35             163509         B-OA10_163509   \n",
       "37             182925         10BP12_182925   \n",
       "38             154717         PZ00P3_154717   \n",
       "...               ...                   ...   \n",
       "75849          189521         10BP12_189521   \n",
       "75852          189691         IZSEZ0_189691   \n",
       "75855          163447         31003A_163447   \n",
       "75871          172702         200020_172702   \n",
       "75880          174544         P1ZHP1_174544   \n",
       "\n",
       "                                           Project Title  \\\n",
       "17     2016 International Conference on Technologies ...   \n",
       "32                          Ultradense silicon nanowires   \n",
       "35     L’invention des Carpates: géographies d’une co...   \n",
       "37     Unter Kriegsrecht. Die schweizerische Militärj...   \n",
       "38     Characterizing migrations with modern and anci...   \n",
       "...                                                  ...   \n",
       "75849  Des réseaux et des hommes. Participation et co...   \n",
       "75852            Colloque International Clinique du sens   \n",
       "75855  Post-transcriptional gene regulation in develo...   \n",
       "75871                 The build-up to volcanic eruptions   \n",
       "75880          Explaining Swiss School Language Policies   \n",
       "\n",
       "                                   Project Title English  \\\n",
       "17                                                   NaN   \n",
       "32                          Ultradense silicon nanowires   \n",
       "35                                                   NaN   \n",
       "37     Under Laws of War: Swiss Military Justice 1914...   \n",
       "38                                                   NaN   \n",
       "...                                                  ...   \n",
       "75849  Networks and Men. Swiss Participation and Cont...   \n",
       "75852                                                NaN   \n",
       "75855  Post-transcriptional gene regulation in develo...   \n",
       "75871                                                NaN   \n",
       "75880          Explaining Swiss School Language Policies   \n",
       "\n",
       "                                   Responsible Applicant  \\\n",
       "17                                     Bolay Jean-Claude   \n",
       "32                                          Ekinci Yasin   \n",
       "35     Verlag Peter Lang AG Europäischer Verlag der W...   \n",
       "37                                     Steiner Sebastian   \n",
       "38                                 Malaspinas Anna Sapfo   \n",
       "...                                                  ...   \n",
       "75849                                       Quin Grégory   \n",
       "75852                                 Brandt Pierre-Yves   \n",
       "75855                                    Grosshans Helge   \n",
       "75871                                      Caricchi Luca   \n",
       "75880                                       Giudici Anja   \n",
       "\n",
       "                 Funding Instrument Funding Instrument Hierarchy  \\\n",
       "17           Scientific Conferences        Science communication   \n",
       "32     Project funding (Div. I-III)              Project funding   \n",
       "35           OAPEN-CH pilot project        Science communication   \n",
       "37                Open Access Books        Science communication   \n",
       "38                        Ambizione                      Careers   \n",
       "...                             ...                          ...   \n",
       "75849             Open Access Books        Science communication   \n",
       "75852          Scientific Exchanges        Science communication   \n",
       "75855  Project funding (Div. I-III)              Project funding   \n",
       "75871  Project funding (Div. I-III)              Project funding   \n",
       "75880                  Doc.Mobility          Careers;Fellowships   \n",
       "\n",
       "                                             Institution  \\\n",
       "17                               VPAI - Coopération EPFL   \n",
       "32     Labor für Mikro- und Nanotechnologie Paul Sche...   \n",
       "35     Verlag Peter Lang AG Europäischer Verlag der W...   \n",
       "37     Abt. Neueste Geschichte u. Zeitgeschichte Hist...   \n",
       "38     Institut für Ökologie und Evolution Universitä...   \n",
       "...                                                  ...   \n",
       "75849  PHASE Institut des sciences du sport/SSP Unive...   \n",
       "75852  Institut de sciences sociales des religions IS...   \n",
       "75855  Friedrich Miescher Institute for Biomedical Re...   \n",
       "75871  Département des sciences de la Terre Universit...   \n",
       "75880  Department of Linguistics University of Pennsy...   \n",
       "\n",
       "            Institution Country                          University  ...  \\\n",
       "17                  Switzerland                 EPF Lausanne - EPFL  ...   \n",
       "32                  Switzerland       Paul Scherrer Institute - PSI  ...   \n",
       "35                  Switzerland           University of Geneva - GE  ...   \n",
       "37                  Switzerland            University of Berne - BE  ...   \n",
       "38                  Switzerland            University of Berne - BE  ...   \n",
       "...                         ...                                 ...  ...   \n",
       "75849               Switzerland         University of Lausanne - LA  ...   \n",
       "75852               Switzerland         University of Lausanne - LA  ...   \n",
       "75855               Switzerland  Institute Friedrich Miescher - FMI  ...   \n",
       "75871               Switzerland           University of Geneva - GE  ...   \n",
       "75880  United States of America           Institution abroad - IACH  ...   \n",
       "\n",
       "                                                Keywords  \\\n",
       "17     Development Engineering; Sustainable Developme...   \n",
       "32     nanowire; nanomanufacturing; silicon; material...   \n",
       "35     Construction régionale transnationale ; Gestio...   \n",
       "37     Erster Weltkrieg; Schweiz; Militärjustiz; Land...   \n",
       "38     molecular evolution; Americas; population geno...   \n",
       "...                                                  ...   \n",
       "75849  Histoire du sport; Histoire suisse; Réseaux; B...   \n",
       "75852  religion/spiritualité et santé; spiritual care...   \n",
       "75855  translational control; developmental timing; L...   \n",
       "75871  Plutons; zircon geochronology; cross correlati...   \n",
       "75880  School language policy; Language education; Mu...   \n",
       "\n",
       "                                                Abstract  \\\n",
       "17     The Cooperation and Development Center (CODEV)...   \n",
       "32     Progress in micro and nanoelectronics, as pred...   \n",
       "35     La signature le 22 mai 2003 à Kiev de la Conve...   \n",
       "37     Die vorliegende Dissertation untersucht die sc...   \n",
       "38     BACKGROUND: The mode and tempo of the coloniza...   \n",
       "...                                                  ...   \n",
       "75849  Depuis les dernières années du 19ème siècle, d...   \n",
       "75852  Certaines personnalités très médiatisées, tell...   \n",
       "75855  Faithful development of an organism requires p...   \n",
       "75871  I seek funding to complete the research of Mis...   \n",
       "75880  No society is virtually monolingual. Therefore...   \n",
       "\n",
       "      Lay Summary Lead (English)  \\\n",
       "17                           NaN   \n",
       "32                           NaN   \n",
       "35                           NaN   \n",
       "37                           NaN   \n",
       "38                           NaN   \n",
       "...                          ...   \n",
       "75849                        NaN   \n",
       "75852                        NaN   \n",
       "75855                        NaN   \n",
       "75871                        NaN   \n",
       "75880                        NaN   \n",
       "\n",
       "                                   Lay Summary (English)  \\\n",
       "17                                                   NaN   \n",
       "32     <p>Progress in micro and nanoelectronics, as p...   \n",
       "35                                                   NaN   \n",
       "37                                                   NaN   \n",
       "38                                                   NaN   \n",
       "...                                                  ...   \n",
       "75849                                                NaN   \n",
       "75852                                                NaN   \n",
       "75855                                                NaN   \n",
       "75871                                                NaN   \n",
       "75880                                                NaN   \n",
       "\n",
       "      Lay Summary  Lead (German)  \\\n",
       "17                           NaN   \n",
       "32                           NaN   \n",
       "35                           NaN   \n",
       "37                           NaN   \n",
       "38                           NaN   \n",
       "...                          ...   \n",
       "75849                        NaN   \n",
       "75852                        NaN   \n",
       "75855                        NaN   \n",
       "75871                        NaN   \n",
       "75880                        NaN   \n",
       "\n",
       "                                    Lay Summary (German)  \\\n",
       "17                                                   NaN   \n",
       "32     <p>Der rasante Fortschritt in der Mikro-und Na...   \n",
       "35                                                   NaN   \n",
       "37                                                   NaN   \n",
       "38                                                   NaN   \n",
       "...                                                  ...   \n",
       "75849                                                NaN   \n",
       "75852                                                NaN   \n",
       "75855  <p>Wir haben k&uuml;rzlich im Fadenwurm <em>Ca...   \n",
       "75871                                                NaN   \n",
       "75880  <p><strong>Inhalt und Ziel des Forschungsproje...   \n",
       "\n",
       "      Lay Summary Lead (French)  \\\n",
       "17                          NaN   \n",
       "32                          NaN   \n",
       "35                          NaN   \n",
       "37                          NaN   \n",
       "38                          NaN   \n",
       "...                         ...   \n",
       "75849                       NaN   \n",
       "75852                       NaN   \n",
       "75855                       NaN   \n",
       "75871                       NaN   \n",
       "75880                       NaN   \n",
       "\n",
       "                                    Lay Summary (French)  \\\n",
       "17                                                   NaN   \n",
       "32                                                   NaN   \n",
       "35                                                   NaN   \n",
       "37                                                   NaN   \n",
       "38     <p><strong>Titre</strong></p><p>Caract&eacute;...   \n",
       "...                                                  ...   \n",
       "75849                                                NaN   \n",
       "75852                                                NaN   \n",
       "75855                                                NaN   \n",
       "75871                                                NaN   \n",
       "75880                                                NaN   \n",
       "\n",
       "      Lay Summary Lead (Italian)  \\\n",
       "17                           NaN   \n",
       "32                           NaN   \n",
       "35                           NaN   \n",
       "37                           NaN   \n",
       "38                           NaN   \n",
       "...                          ...   \n",
       "75849                        NaN   \n",
       "75852                        NaN   \n",
       "75855                        NaN   \n",
       "75871                        NaN   \n",
       "75880                        NaN   \n",
       "\n",
       "                                   Lay Summary (Italian)  \n",
       "17                                                   NaN  \n",
       "32                                                   NaN  \n",
       "35                                                   NaN  \n",
       "37                                                   NaN  \n",
       "38                                                   NaN  \n",
       "...                                                  ...  \n",
       "75849                                                NaN  \n",
       "75852                                                NaN  \n",
       "75855                                                NaN  \n",
       "75871  <p>Misure geofisiche e le analisi chimiche dei...  \n",
       "75880                                                NaN  \n",
       "\n",
       "[13498 rows x 27 columns]"
      ]
     },
     "execution_count": 24,
     "metadata": {},
     "output_type": "execute_result"
    }
   ],
   "source": [
    "snsf_ge_abs_df.iloc[years_15_18_ind,:]"
   ]
  },
  {
   "cell_type": "code",
   "execution_count": 27,
   "id": "acting-tutorial",
   "metadata": {},
   "outputs": [
    {
     "data": {
      "text/plain": [
       "Index(['Project Number', 'Group/Person', 'Types of collaboration', 'Country',\n",
       "       'Project Start Date', 'Project End Date'],\n",
       "      dtype='object')"
      ]
     },
     "execution_count": 27,
     "metadata": {},
     "output_type": "execute_result"
    }
   ],
   "source": [
    "\n",
    "snsf_collab = pd.read_csv(\"../data/P3_CollaborationExport.csv\", sep=\";\")\n",
    "snsf_collab.keys()"
   ]
  },
  {
   "cell_type": "code",
   "execution_count": 33,
   "id": "english-value",
   "metadata": {},
   "outputs": [
    {
     "data": {
      "text/html": [
       "<div>\n",
       "<style scoped>\n",
       "    .dataframe tbody tr th:only-of-type {\n",
       "        vertical-align: middle;\n",
       "    }\n",
       "\n",
       "    .dataframe tbody tr th {\n",
       "        vertical-align: top;\n",
       "    }\n",
       "\n",
       "    .dataframe thead th {\n",
       "        text-align: right;\n",
       "    }\n",
       "</style>\n",
       "<table border=\"1\" class=\"dataframe\">\n",
       "  <thead>\n",
       "    <tr style=\"text-align: right;\">\n",
       "      <th></th>\n",
       "      <th>Project Number</th>\n",
       "      <th>Group/Person</th>\n",
       "      <th>Types of collaboration</th>\n",
       "      <th>Country</th>\n",
       "      <th>Project Start Date</th>\n",
       "      <th>Project End Date</th>\n",
       "      <th>years</th>\n",
       "    </tr>\n",
       "  </thead>\n",
       "  <tbody>\n",
       "    <tr>\n",
       "      <th>0</th>\n",
       "      <td>67355</td>\n",
       "      <td>Office for History of Science and Technology U...</td>\n",
       "      <td>in-depth/constructive exchanges on approaches,...</td>\n",
       "      <td>United States of America</td>\n",
       "      <td>01.01.2002</td>\n",
       "      <td>30.04.2003</td>\n",
       "      <td>2002</td>\n",
       "    </tr>\n",
       "    <tr>\n",
       "      <th>1</th>\n",
       "      <td>100150</td>\n",
       "      <td>Colorado Division of Wildlife, Fort Collins</td>\n",
       "      <td>Publication</td>\n",
       "      <td>United States of America</td>\n",
       "      <td>01.04.2003</td>\n",
       "      <td>31.07.2007</td>\n",
       "      <td>2003</td>\n",
       "    </tr>\n",
       "    <tr>\n",
       "      <th>2</th>\n",
       "      <td>100851</td>\n",
       "      <td>Harvard Divinity School</td>\n",
       "      <td>in-depth/constructive exchanges on approaches,...</td>\n",
       "      <td>United States of America</td>\n",
       "      <td>01.08.2003</td>\n",
       "      <td>31.07.2004</td>\n",
       "      <td>2003</td>\n",
       "    </tr>\n",
       "    <tr>\n",
       "      <th>3</th>\n",
       "      <td>103945</td>\n",
       "      <td>Functional Genomics Center Zurich</td>\n",
       "      <td>in-depth/constructive exchanges on approaches,...</td>\n",
       "      <td>Switzerland</td>\n",
       "      <td>01.08.2004</td>\n",
       "      <td>31.01.2009</td>\n",
       "      <td>2004</td>\n",
       "    </tr>\n",
       "    <tr>\n",
       "      <th>4</th>\n",
       "      <td>106366</td>\n",
       "      <td>Universitäten Kiel und Heidelberg (Ludger Lieb)</td>\n",
       "      <td>in-depth/constructive exchanges on approaches,...</td>\n",
       "      <td>Germany</td>\n",
       "      <td>01.10.2004</td>\n",
       "      <td>30.09.2005</td>\n",
       "      <td>2004</td>\n",
       "    </tr>\n",
       "  </tbody>\n",
       "</table>\n",
       "</div>"
      ],
      "text/plain": [
       "   Project Number                                       Group/Person  \\\n",
       "0           67355  Office for History of Science and Technology U...   \n",
       "1          100150        Colorado Division of Wildlife, Fort Collins   \n",
       "2          100851                            Harvard Divinity School   \n",
       "3          103945                  Functional Genomics Center Zurich   \n",
       "4          106366    Universitäten Kiel und Heidelberg (Ludger Lieb)   \n",
       "\n",
       "                              Types of collaboration  \\\n",
       "0  in-depth/constructive exchanges on approaches,...   \n",
       "1                                        Publication   \n",
       "2  in-depth/constructive exchanges on approaches,...   \n",
       "3  in-depth/constructive exchanges on approaches,...   \n",
       "4  in-depth/constructive exchanges on approaches,...   \n",
       "\n",
       "                    Country Project Start Date Project End Date  years  \n",
       "0  United States of America         01.01.2002       30.04.2003   2002  \n",
       "1  United States of America         01.04.2003       31.07.2007   2003  \n",
       "2  United States of America         01.08.2003       31.07.2004   2003  \n",
       "3               Switzerland         01.08.2004       31.01.2009   2004  \n",
       "4                   Germany         01.10.2004       30.09.2005   2004  "
      ]
     },
     "execution_count": 33,
     "metadata": {},
     "output_type": "execute_result"
    }
   ],
   "source": [
    "snsf_collab.head()"
   ]
  },
  {
   "cell_type": "code",
   "execution_count": 29,
   "id": "steady-subsection",
   "metadata": {},
   "outputs": [
    {
     "data": {
      "text/plain": [
       "0        2002\n",
       "1        2003\n",
       "2        2003\n",
       "3        2004\n",
       "4        2004\n",
       "         ... \n",
       "63832    2021\n",
       "63833    2021\n",
       "63834    2021\n",
       "63835    2021\n",
       "63836    2021\n",
       "Name: years, Length: 63837, dtype: int64"
      ]
     },
     "execution_count": 29,
     "metadata": {},
     "output_type": "execute_result"
    }
   ],
   "source": [
    "snsf_collab[\"years\"] = [int(str(x).split(\".\")[2]) for x in snsf_collab[\"Project Start Date\"]]\n",
    "snsf_collab[\"years\"]"
   ]
  },
  {
   "cell_type": "code",
   "execution_count": 60,
   "id": "express-dream",
   "metadata": {},
   "outputs": [
    {
     "name": "stdout",
     "output_type": "stream",
     "text": [
      "5874 6659\n"
     ]
    }
   ],
   "source": [
    "collab_15_18 = pd.DataFrame([snsf_collab.iloc[i,:] for i in range(len(snsf_collab)) if 2015 <= snsf_collab[\"years\"][i] <= 2018])\n",
    "collab_15_19 = pd.DataFrame([snsf_collab.iloc[i,:] for i in range(len(snsf_collab)) if 2015 <= snsf_collab[\"years\"][i] <= 2019])\n",
    "collab_15_18[\"Project Number\"] = [int(i) for i in collab_15_18[\"Project Number\"]]\n",
    "collab_15_19[\"Project Number\"] = [int(i) for i in collab_15_19[\"Project Number\"]]\n",
    "print(len(set(collab_15_18[\"Project Number\"])),  len(set(collab_15_19[\"Project Number\"])))"
   ]
  },
  {
   "cell_type": "code",
   "execution_count": 48,
   "id": "emerging-disease",
   "metadata": {},
   "outputs": [
    {
     "data": {
      "text/plain": [
       "0.541033434650456"
      ]
     },
     "execution_count": 48,
     "metadata": {},
     "output_type": "execute_result"
    }
   ],
   "source": [
    "len(set(collab_15_18[\"Project Number\"])) / len(years_15_18)"
   ]
  },
  {
   "cell_type": "code",
   "execution_count": 32,
   "id": "catholic-peripheral",
   "metadata": {},
   "outputs": [
    {
     "data": {
      "text/plain": [
       "30194"
      ]
     },
     "execution_count": 32,
     "metadata": {},
     "output_type": "execute_result"
    }
   ],
   "source": [
    "len([snsf_collab.iloc[i,:] for i in range(len(snsf_collab)) if 2015 <= snsf_collab[\"years\"][i] <= 2019])"
   ]
  },
  {
   "cell_type": "code",
   "execution_count": 55,
   "id": "killing-hierarchy",
   "metadata": {},
   "outputs": [
    {
     "data": {
      "text/plain": [
       "10857"
      ]
     },
     "execution_count": 55,
     "metadata": {},
     "output_type": "execute_result"
    }
   ],
   "source": [
    "\n",
    "years_15_18_df = pd.DataFrame([snsf_ge_abs_df.iloc[i,:] for i,x in enumerate(snsf_ge_abs_df[\"End Date\"]) if str(x) != 'nan' and 2015 <= int(str(x).split(\".\")[2]) <= 2018])\n",
    "len(years_15_18_df)"
   ]
  },
  {
   "cell_type": "code",
   "execution_count": 56,
   "id": "thermal-aquarium",
   "metadata": {},
   "outputs": [
    {
     "data": {
      "text/plain": [
       "Index(['Project Number', 'Project Number String', 'Project Title',\n",
       "       'Project Title English', 'Responsible Applicant', 'Funding Instrument',\n",
       "       'Funding Instrument Hierarchy', 'Institution', 'Institution Country',\n",
       "       'University', 'Discipline Number', 'Discipline Name',\n",
       "       'Discipline Name Hierarchy', 'All disciplines', 'Start Date',\n",
       "       'End Date', 'Approved Amount', 'Keywords', 'Abstract',\n",
       "       'Lay Summary Lead (English)', 'Lay Summary (English)',\n",
       "       'Lay Summary  Lead (German)', 'Lay Summary (German)',\n",
       "       'Lay Summary Lead (French)', 'Lay Summary (French)',\n",
       "       'Lay Summary Lead (Italian)', 'Lay Summary (Italian)'],\n",
       "      dtype='object')"
      ]
     },
     "execution_count": 56,
     "metadata": {},
     "output_type": "execute_result"
    }
   ],
   "source": [
    "years_15_18_df.keys()"
   ]
  },
  {
   "cell_type": "code",
   "execution_count": 58,
   "id": "played-school",
   "metadata": {},
   "outputs": [
    {
     "data": {
      "text/plain": [
       "[('General history (without pre-and early history)', 408),\n",
       " ('Psychology', 346),\n",
       " ('Molecular Biology', 329),\n",
       " ('Neurophysiology and Brain Research', 319),\n",
       " ('Mathematics', 308),\n",
       " ('Condensed Matter Physics', 303),\n",
       " ('Information Technology', 292),\n",
       " ('Legal sciences', 290),\n",
       " ('Sociology', 288),\n",
       " ('Economics', 275),\n",
       " ('German and English languages and literature', 254),\n",
       " ('Political science', 240),\n",
       " ('Physical Chemistry', 234),\n",
       " ('Immunology, Immunopathology', 221),\n",
       " ('Material Sciences', 216),\n",
       " ('Philosophy', 213),\n",
       " ('Organic Chemistry', 205),\n",
       " ('Ecology', 197),\n",
       " ('Romance languages and literature', 188),\n",
       " ('Education and learning sciences, subject-specific education', 183),\n",
       " ('Cellular Biology, Cytology', 177),\n",
       " ('Science of management', 165),\n",
       " ('Religious studies, Theology', 164),\n",
       " ('Visual arts and Art history', 157),\n",
       " ('Experimental Cancer Research', 155),\n",
       " ('Other disciplines of Environmental Sciences', 154),\n",
       " ('Astronomy, Astrophysics and Space Sciences', 152),\n",
       " ('Biochemistry', 150),\n",
       " ('Genetics', 143),\n",
       " ('Other languages and literature', 135),\n",
       " ('Ethnology', 132),\n",
       " ('Inorganic Chemistry', 125),\n",
       " ('Other disciplines of Physics', 120),\n",
       " ('Theoretical Physics', 120),\n",
       " ('Experimental Microbiology', 112),\n",
       " ('Other disciplines of Engineering Sciences', 111),\n",
       " ('Social geography and ecology', 103),\n",
       " ('Particle Physics', 103),\n",
       " ('Swiss history', 95),\n",
       " ('Architecture and Social urban science', 93),\n",
       " ('Civil Engineering', 92),\n",
       " ('Neurology, Psychiatry', 92),\n",
       " ('Mechanical Engineering', 89),\n",
       " ('Climatology. Atmospherical Chemistry, Aeronomy', 87),\n",
       " ('Geology', 82),\n",
       " ('Ancient history and Classical studies', 79),\n",
       " ('Hydrology, Limnology, Glaciology', 78),\n",
       " ('Physiology : other topics', 77),\n",
       " ('Zoology', 76),\n",
       " ('Embryology, Developmental Biology', 75),\n",
       " ('Electrical Engineering', 74),\n",
       " ('Communication sciences', 73),\n",
       " ('Biophysics', 70),\n",
       " ('Pathophysiology', 69),\n",
       " ('Geochemistry', 68),\n",
       " ('Cardiovascular Research', 66),\n",
       " ('Archaeology', 65),\n",
       " ('Music, Theatre', 60),\n",
       " ('Botany', 57),\n",
       " ('Chemical Engineering', 57),\n",
       " ('Biomedical Engineering', 56),\n",
       " ('Geophysics', 55),\n",
       " ('Microelectronics. Optoelectronics', 54),\n",
       " ('Arts', 52),\n",
       " ('Medical Microbiology', 51),\n",
       " ('Internal Medicine', 48),\n",
       " ('Musicology', 44),\n",
       " ('Theatre and Cinema', 41),\n",
       " ('Applied linguistics', 40),\n",
       " ('Ecclesiastical history', 39),\n",
       " ('Pharmacology, Pharmacy', 37),\n",
       " ('Infectious Diseases', 36),\n",
       " ('Pedology', 35),\n",
       " ('Fluid Dynamics', 33),\n",
       " ('Surgery', 32),\n",
       " ('Social work', 32),\n",
       " ('Other disciplines of Earth Sciences', 31),\n",
       " ('Methods of Epidemiology and Preventive Medicine', 30),\n",
       " ('Agricultural and Forestry Sciences', 30),\n",
       " ('Meteorology', 30),\n",
       " ('Endocrinology', 29),\n",
       " ('Paediatrics', 27),\n",
       " ('Environmental Research', 26),\n",
       " ('Clinical Cardiovascular Research', 25),\n",
       " ('Clinical Cancer Research', 24),\n",
       " ('Prehistory', 24),\n",
       " ('Public Health and Health Services', 23),\n",
       " ('Health', 19),\n",
       " ('Applied psychology', 18),\n",
       " ('Technical Physics', 17),\n",
       " ('Palaeontology', 16),\n",
       " ('Geomorphology', 15),\n",
       " ('Oceanography', 15),\n",
       " ('Geochronology', 15),\n",
       " ('Veterinary Medicine', 15),\n",
       " ('Mineralogy', 15),\n",
       " ('Ophthalmology', 14),\n",
       " ('Clinical Endocrinology', 14),\n",
       " ('Anthropology, Primatology', 13),\n",
       " ('Paleontology (biol.)', 13),\n",
       " ('Cancer', 12),\n",
       " ('Structural Research', 12),\n",
       " ('Agricultural Engineering', 11),\n",
       " ('Clinical Immunology and Immunopathology', 11),\n",
       " ('Clinical Pharmacology', 11),\n",
       " ('Gynaecology', 10),\n",
       " ('Diseases of Bones and Joints', 10),\n",
       " ('Nutritional Research, Vitaminology', 9),\n",
       " ('Mental Disorders, Psychosomatic Diseases', 9),\n",
       " ('Dentistry', 8),\n",
       " ('Respiratory Diseases', 8),\n",
       " ('Clinical Pathophysiology', 7),\n",
       " ('Otorhinolaryngology', 7),\n",
       " ('Plasma Physics', 7),\n",
       " ('Health Education', 7),\n",
       " ('Clinical Nutritional Research', 6),\n",
       " ('Cardiovascular Diseases', 6),\n",
       " ('Medical Statistics', 5),\n",
       " ('Nuclear Physics', 5),\n",
       " ('Geriatrics', 4),\n",
       " ('Forest Engineering', 4),\n",
       " ('Radiobiology', 4),\n",
       " ('Rehabilitation', 4),\n",
       " ('Addictive Diseases', 3),\n",
       " ('Tropical Medicine', 3),\n",
       " ('Congenital Disorders', 3),\n",
       " ('Medico-Social Problems of Youth', 3),\n",
       " ('Dermatology', 3),\n",
       " ('Dietetics', 3),\n",
       " ('Metabolic Disorders', 2),\n",
       " ('Ethology', 2),\n",
       " ('Environmental Toxicology', 2),\n",
       " ('Animal Breeding', 2),\n",
       " ('Sport Medicine', 2),\n",
       " ('Medico-Social Problems of the Elderly', 2),\n",
       " ('Group Medicine', 1),\n",
       " ('Social Paediatrics', 1),\n",
       " ('Occupational Medicine, Ergonomy', 1),\n",
       " ('Oral Preventive Medicine', 1),\n",
       " ('Mathematics, Natural- and Engineering Sciences', 1),\n",
       " ('Human Ecology', 1)]"
      ]
     },
     "execution_count": 58,
     "metadata": {},
     "output_type": "execute_result"
    }
   ],
   "source": [
    "# importing the module\n",
    "import collections\n",
    "\n",
    "# using Counter to find frequency of elements\n",
    "freq_rd = collections.Counter(years_15_18_df[\"Discipline Name\"])\n",
    "freq_rd.most_common()"
   ]
  },
  {
   "cell_type": "code",
   "execution_count": 61,
   "id": "immediate-substitute",
   "metadata": {},
   "outputs": [],
   "source": [
    "\n",
    "freq_rd = collections.Counter(years_15_18_df[\"Institution Country\"])"
   ]
  },
  {
   "cell_type": "code",
   "execution_count": 62,
   "id": "hydraulic-crossing",
   "metadata": {},
   "outputs": [
    {
     "data": {
      "text/plain": [
       "Counter({'Switzerland': 7680,\n",
       "         'United States of America': 1083,\n",
       "         'Great Britain and Northern Ireland': 398,\n",
       "         'Australia': 76,\n",
       "         nan: 724,\n",
       "         'Norway': 11,\n",
       "         'Canada': 126,\n",
       "         'Germany': 225,\n",
       "         'Poland': 2,\n",
       "         'France': 132,\n",
       "         'Spain': 35,\n",
       "         'Israel': 15,\n",
       "         'Belgium': 45,\n",
       "         'Brazil': 4,\n",
       "         'Japan': 12,\n",
       "         'Netherlands': 69,\n",
       "         'Sweden': 40,\n",
       "         'Italy': 36,\n",
       "         'South Africa': 12,\n",
       "         'Finland': 14,\n",
       "         'Peru': 3,\n",
       "         'Austria': 29,\n",
       "         'Denmark': 15,\n",
       "         'Czech Republic': 1,\n",
       "         'Kenya': 3,\n",
       "         'Malta': 1,\n",
       "         'Morocco': 2,\n",
       "         'Ireland': 6,\n",
       "         'Taiwan': 1,\n",
       "         'Russia': 12,\n",
       "         'Mexico': 7,\n",
       "         'Greece': 4,\n",
       "         'Panama': 1,\n",
       "         'New Zealand': 6,\n",
       "         'Hongkong': 1,\n",
       "         'Korean Republic (South Korea)': 1,\n",
       "         'Singapore': 3,\n",
       "         'China': 4,\n",
       "         'Portugal': 8,\n",
       "         'Nepal': 1,\n",
       "         'Chile': 1,\n",
       "         'Egypt': 1,\n",
       "         'Turkey': 1,\n",
       "         'Iceland': 1,\n",
       "         'Ecuador': 1,\n",
       "         'Argentina': 1,\n",
       "         'Luxembourg': 1,\n",
       "         'Congo, Republic': 1,\n",
       "         'Estonia': 1})"
      ]
     },
     "execution_count": 62,
     "metadata": {},
     "output_type": "execute_result"
    }
   ],
   "source": [
    "freq_rd"
   ]
  },
  {
   "cell_type": "code",
   "execution_count": 64,
   "id": "owned-thumbnail",
   "metadata": {},
   "outputs": [],
   "source": [
    "\n",
    "a = collections.Counter(years_15_18_df[\"Discipline Name Hierarchy\"])"
   ]
  },
  {
   "cell_type": "code",
   "execution_count": 65,
   "id": "accompanied-composition",
   "metadata": {},
   "outputs": [
    {
     "data": {
      "text/plain": [
       "21"
      ]
     },
     "execution_count": 65,
     "metadata": {},
     "output_type": "execute_result"
    }
   ],
   "source": [
    "len(a)"
   ]
  },
  {
   "cell_type": "code",
   "execution_count": 66,
   "id": "still-dragon",
   "metadata": {},
   "outputs": [
    {
     "data": {
      "text/plain": [
       "Counter({'Humanities and Social Sciences;Economics, law': 730,\n",
       "         'Mathematics, Natural- and Engineering Sciences;Physics': 675,\n",
       "         'Humanities and Social Sciences;Ethnology, social and human geography': 235,\n",
       "         'Humanities and Social Sciences;Theology & religious studies, history, classical studies, archaeology, prehistory and early history': 874,\n",
       "         'Biology and Medicine;Clinical Medicine': 419,\n",
       "         'Mathematics, Natural- and Engineering Sciences;Chemistry': 564,\n",
       "         'Humanities and Social Sciences;Psychology, educational studies': 547,\n",
       "         'Biology and Medicine;General Biology': 414,\n",
       "         'Biology and Medicine;Basic Biological Research': 1060,\n",
       "         'Biology and Medicine;Basic Medical Sciences': 591,\n",
       "         'Mathematics, Natural- and Engineering Sciences': 460,\n",
       "         'Mathematics, Natural- and Engineering Sciences;Engineering Sciences': 1033,\n",
       "         'Humanities and Social Sciences;Linguistics and literature, philosophy': 830,\n",
       "         'Biology and Medicine;Experimental Medicine': 456,\n",
       "         'Biology and Medicine;Preventive Medicine (Epidemiology/Early Diagnosis/Prevention)': 120,\n",
       "         'Humanities and Social Sciences;Sociology, social work, political sciences, media and communication studies, health': 652,\n",
       "         'Mathematics, Natural- and Engineering Sciences;Earth Sciences': 282,\n",
       "         'Humanities and Social Sciences;Art studies, musicology, theatre and film studies, architecture': 447,\n",
       "         'Mathematics, Natural- and Engineering Sciences;Environmental Sciences': 414,\n",
       "         'Biology and Medicine;Social Medicine': 53,\n",
       "         nan: 1})"
      ]
     },
     "execution_count": 66,
     "metadata": {},
     "output_type": "execute_result"
    }
   ],
   "source": [
    "a"
   ]
  },
  {
   "cell_type": "code",
   "execution_count": 67,
   "id": "recognized-vitamin",
   "metadata": {},
   "outputs": [
    {
     "data": {
      "text/plain": [
       "75888"
      ]
     },
     "execution_count": 67,
     "metadata": {},
     "output_type": "execute_result"
    }
   ],
   "source": [
    "len(set(snsf_ge_abs_df[\"Project Number\"]))\n"
   ]
  },
  {
   "cell_type": "code",
   "execution_count": 68,
   "id": "absolute-istanbul",
   "metadata": {},
   "outputs": [
    {
     "data": {
      "text/plain": [
       "75888"
      ]
     },
     "execution_count": 68,
     "metadata": {},
     "output_type": "execute_result"
    }
   ],
   "source": [
    "\n",
    "\n",
    "len(snsf_ge_abs_df[\"Project Number\"])"
   ]
  },
  {
   "cell_type": "code",
   "execution_count": null,
   "id": "integrated-retirement",
   "metadata": {},
   "outputs": [],
   "source": []
  }
 ],
 "metadata": {
  "kernelspec": {
   "display_name": "topic_modelling",
   "language": "python",
   "name": "topic_modelling"
  },
  "language_info": {
   "codemirror_mode": {
    "name": "ipython",
    "version": 3
   },
   "file_extension": ".py",
   "mimetype": "text/x-python",
   "name": "python",
   "nbconvert_exporter": "python",
   "pygments_lexer": "ipython3",
   "version": "3.8.8"
  }
 },
 "nbformat": 4,
 "nbformat_minor": 5
}
